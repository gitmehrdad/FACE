{
  "nbformat": 4,
  "nbformat_minor": 0,
  "metadata": {
    "colab": {
      "provenance": []
    },
    "kernelspec": {
      "name": "python3",
      "display_name": "Python 3"
    },
    "language_info": {
      "name": "python"
    },
    "accelerator": "GPU",
    "gpuClass": "standard"
  },
  "cells": [
    {
      "cell_type": "code",
      "source": [
        "# install the modAL package\n",
        "!pip install modAL"
      ],
      "metadata": {
        "colab": {
          "base_uri": "https://localhost:8080/"
        },
        "id": "MQpoVJRLNBYO",
        "outputId": "637982c7-7e72-4ca3-8bab-46e4598bd108"
      },
      "execution_count": 1,
      "outputs": [
        {
          "output_type": "stream",
          "name": "stdout",
          "text": [
            "Looking in indexes: https://pypi.org/simple, https://us-python.pkg.dev/colab-wheels/public/simple/\n",
            "Collecting modAL\n",
            "  Downloading modAL-0.4.1-py3-none-any.whl (27 kB)\n",
            "Requirement already satisfied: numpy>=1.13 in /usr/local/lib/python3.8/dist-packages (from modAL) (1.22.4)\n",
            "Requirement already satisfied: pandas>=1.1.0 in /usr/local/lib/python3.8/dist-packages (from modAL) (1.3.5)\n",
            "Requirement already satisfied: scikit-learn>=0.18 in /usr/local/lib/python3.8/dist-packages (from modAL) (1.2.1)\n",
            "Requirement already satisfied: scipy>=0.18 in /usr/local/lib/python3.8/dist-packages (from modAL) (1.10.1)\n",
            "Requirement already satisfied: python-dateutil>=2.7.3 in /usr/local/lib/python3.8/dist-packages (from pandas>=1.1.0->modAL) (2.8.2)\n",
            "Requirement already satisfied: pytz>=2017.3 in /usr/local/lib/python3.8/dist-packages (from pandas>=1.1.0->modAL) (2022.7.1)\n",
            "Requirement already satisfied: threadpoolctl>=2.0.0 in /usr/local/lib/python3.8/dist-packages (from scikit-learn>=0.18->modAL) (3.1.0)\n",
            "Requirement already satisfied: joblib>=1.1.1 in /usr/local/lib/python3.8/dist-packages (from scikit-learn>=0.18->modAL) (1.2.0)\n",
            "Requirement already satisfied: six>=1.5 in /usr/local/lib/python3.8/dist-packages (from python-dateutil>=2.7.3->pandas>=1.1.0->modAL) (1.15.0)\n",
            "Installing collected packages: modAL\n",
            "Successfully installed modAL-0.4.1\n"
          ]
        }
      ]
    },
    {
      "cell_type": "code",
      "execution_count": 2,
      "metadata": {
        "id": "1eWTuwV6ouqe"
      },
      "outputs": [],
      "source": [
        "# import utilized packages\n",
        "import pandas as pd\n",
        "import numpy as np\n",
        "from sklearn.neighbors import LocalOutlierFactor\n",
        "from sklearn.multiclass import OneVsRestClassifier\n",
        "from xgboost import XGBClassifier\n",
        "from modAL.models import ActiveLearner\n",
        "from sklearn.metrics import accuracy_score"
      ]
    },
    {
      "cell_type": "code",
      "source": [
        "# load the US8K dataset\n",
        "features = np.load('./drive/MyDrive/dataset_US.npy',allow_pickle= True)\n",
        "# load the data labels from the metadata file \n",
        "df = pd.read_csv('./drive/MyDrive/UrbanSound8K.csv', usecols=['classID'], dtype={'classID': np.int32})\n",
        "data_class = df.to_numpy().flatten()"
      ],
      "metadata": {
        "id": "OOlSpwd2o5U9"
      },
      "execution_count": 3,
      "outputs": []
    },
    {
      "cell_type": "code",
      "source": [
        "# determine the labeling classifier\n",
        "labeler = OneVsRestClassifier(XGBClassifier(tree_method='gpu_hist', max_depth=50, max_leaves=80, random_state=13), n_jobs=-1)\n",
        "# define a variable to keep the predicted labels\n",
        "prediction = np.full_like(data_class, -1)\n",
        "# specify the outlier detection algorithm\n",
        "detector = LocalOutlierFactor(n_neighbors=1, n_jobs=-1)\n",
        "# determine the status of each sample\n",
        "status = detector.fit_predict(features)\n",
        "# find inlier samples (top 2.5%)\n",
        "inliers = []\n",
        "for index, item in enumerate(status):\n",
        "  if item == 1 and detector.negative_outlier_factor_[index] < -1.4:\n",
        "      inliers.append(index)\n",
        "# add inlier samples to the labeler's trainset\n",
        "selection =  np.array(inliers, dtype=int).flatten() \n",
        "# randomly select 7.5% of the samples of each class \n",
        "known_indices = []\n",
        "for class_index in range(10):\n",
        "  # find same class samples\n",
        "  class_indices = np.array(np.where(data_class == class_index)).flatten()\n",
        "  # exclude the already selected data\n",
        "  new_indices = np.setdiff1d(class_indices,selection)\n",
        "  # select samples\n",
        "  np.random.seed(6) \n",
        "  sample_count = 3*class_indices.shape[0] // 40\n",
        "  selected_indices = np.random.choice(new_indices, size=sample_count, replace=False)\n",
        "  known_indices.extend(selected_indices)\n",
        "# add random samples to the labeler's trainset\n",
        "selection = np.concatenate((selection, np.array(known_indices, dtype=int)))\n",
        "# register the known labels\n",
        "prediction[selection] = data_class[selection]\n",
        "# consults the AL tool for top 5% of essential samples\n",
        "learner = ActiveLearner(estimator=labeler, X_training=features[selection], y_training=data_class[selection])\n",
        "query_idx, query_inst = learner.query(features, data_class.shape[0]//20)\n",
        "# add the proposed samples to the labeler's trainset\n",
        "selection = np.concatenate((selection, query_idx))\n",
        "# register the known labels\n",
        "prediction[selection] = data_class[selection]\n",
        "# Run the Proposed Algorithm\n",
        "for iteration in range(4): \n",
        "    # train the labeler\n",
        "    labeler.fit(features[selection], prediction[selection])\n",
        "    # predict the labels of all samples and register the prediction accuracy\n",
        "    predicted_labels = labeler.predict(features)\n",
        "    score = labeler.predict_proba(features)   \n",
        "    # add the correctly labelled samples to the labelled samples set\n",
        "    for index, label in enumerate(predicted_labels):\n",
        "      #  inlier sample's predicted label is valid if its labelling accuracy exceeds 70 percent \n",
        "      if prediction[index] == -1 and status[index]==1:\n",
        "        if score[index][int(predicted_labels[index])] > 0.7 :\n",
        "          prediction[index] = label\n",
        "    # update the labelled samples list\n",
        "    selection = np.array(np.where(prediction != -1)).flatten()\n",
        "# train the labeler for the last time\n",
        "labeler.fit(features[selection], prediction[selection])\n",
        "# predict the labels of samples\n",
        "predicted_labels = labeler.predict(features)\n",
        "# add the labels of the rest of the samples to the labelled samples set\n",
        "for index, label in enumerate(predicted_labels):\n",
        "  if prediction[index] == -1:\n",
        "    prediction[index] = label\n",
        "# report the labelling accuracy\n",
        "print(\"Annotation Accuracy = \", accuracy_score(data_class, prediction))"
      ],
      "metadata": {
        "id": "LX4y40cpUASK",
        "colab": {
          "base_uri": "https://localhost:8080/"
        },
        "outputId": "afe2fc8f-7e82-4339-8dbc-18df4de384a4"
      },
      "execution_count": 13,
      "outputs": [
        {
          "output_type": "stream",
          "name": "stdout",
          "text": [
            "Annotation Accuracy =  0.8977324782409528\n"
          ]
        }
      ]
    }
  ]
}