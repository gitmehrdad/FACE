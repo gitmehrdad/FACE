{
  "nbformat": 4,
  "nbformat_minor": 0,
  "metadata": {
    "colab": {
      "provenance": []
    },
    "kernelspec": {
      "name": "python3",
      "display_name": "Python 3"
    },
    "language_info": {
      "name": "python"
    },
    "accelerator": "GPU",
    "gpuClass": "standard"
  },
  "cells": [
    {
      "cell_type": "code",
      "execution_count": 1,
      "metadata": {
        "id": "mQ-9Vdq6TiBM"
      },
      "outputs": [],
      "source": [
        "# import necessary libraries\n",
        "import pandas as pd\n",
        "import numpy as np\n",
        "from sklearn.model_selection import train_test_split\n",
        "from keras.utils import to_categorical\n",
        "from keras.models import Model\n",
        "from keras.layers import Input, Dense, Dropout, LeakyReLU, Add\n",
        "from keras.layers import Conv1D, Flatten, BatchNormalization, LocallyConnected1D \n",
        "from keras.optimizers import SGD\n",
        "from sklearn.metrics import accuracy_score, confusion_matrix, ConfusionMatrixDisplay\n",
        "import matplotlib.pyplot as plt"
      ]
    },
    {
      "cell_type": "code",
      "source": [
        "# load the US8K dataset\n",
        "features = np.load('./drive/MyDrive/dataset_US.npy',allow_pickle= True)\n",
        "# load the data labels from the metadata file \n",
        "df = pd.read_csv('./drive/MyDrive/UrbanSound8K.csv', usecols=['classID'], dtype={'classID': np.int32})\n",
        "data_class = df.to_numpy().flatten()\n",
        "# split the data into testset and trainset\n",
        "X_train, X_test, y_train, y_test = train_test_split(features, data_class, test_size=0.1, random_state=75)\n",
        "# reshape the data \n",
        "x_tr = X_train.reshape(X_train.shape[0], X_train.shape[1], 1)\n",
        "x_ts = X_test.reshape(X_test.shape[0], X_test.shape[1], 1)"
      ],
      "metadata": {
        "id": "9Rvq-MMNq796"
      },
      "execution_count": 2,
      "outputs": []
    },
    {
      "cell_type": "code",
      "source": [
        "# describe the neural network\n",
        "def ConvBlock(inputs, filters, kernel_size):\n",
        "    x = Conv1D(filters, kernel_size, padding='same')(inputs)\n",
        "    x = BatchNormalization()(x)\n",
        "    x = LeakyReLU(alpha=0.05)(x)\n",
        "    x = Conv1D(filters, kernel_size, padding='same')(x)\n",
        "    x = BatchNormalization()(x)\n",
        "    x = LeakyReLU(alpha=0.05)(x)\n",
        "    return x\n",
        "\n",
        "def LocalBlock(inputs, filters, kernel_size):\n",
        "    x = LocallyConnected1D(filters, kernel_size)(inputs)\n",
        "    x = BatchNormalization()(x)\n",
        "    x = LeakyReLU(alpha=0.05)(x)\n",
        "    x = Conv1D(filters, kernel_size, padding='same')(x)\n",
        "    x = BatchNormalization()(x)\n",
        "    x = LeakyReLU(alpha=0.05)(x)\n",
        "    return x\n",
        "\n",
        "def DenseBlock(inputs, neuron_count):\n",
        "    x = Dense(neuron_count)(inputs)\n",
        "    x = LeakyReLU(alpha=0.05)(x)\n",
        "    x = Dropout(0.5)(x)\n",
        "    return x\n",
        "\n",
        "# specify the NN's input\n",
        "f_inp = Input(shape=(features.shape[1],1))\n",
        "\n",
        "# define four parallel streams for feature extraction\n",
        "x_0 = ConvBlock(f_inp, 64, 3)\n",
        "x_0 = LocalBlock(x_0, 16, 3)\n",
        "\n",
        "x_1 = ConvBlock(f_inp, 64, 7)\n",
        "x_1 = LocalBlock(x_1, 16, 3)\n",
        "\n",
        "x_2 = ConvBlock(f_inp, 64, 11)\n",
        "x_2 = LocalBlock(x_2, 16, 3)\n",
        "\n",
        "x_3 = ConvBlock(f_inp, 64, 17)\n",
        "x_3 = LocalBlock(x_3, 16, 3)\n",
        "\n",
        "x_4 = ConvBlock(f_inp, 64, 23)\n",
        "x_4 = LocalBlock(x_4, 16, 3)\n",
        "\n",
        "# merge the streams via addition\n",
        "x = Add()([x_0, x_1, x_2, x_3, x_4])\n",
        "\n",
        "# extract the final feature map\n",
        "x = LocalBlock(x, 32, 3)\n",
        "\n",
        "# flatten the feature map           \n",
        "x = Flatten()(x)\n",
        "\n",
        "# classify the data\n",
        "x = DenseBlock(x, 200)\n",
        "x_out = Dense(10, activation='softmax')(x)"
      ],
      "metadata": {
        "id": "xKIi6Ex8JjAC"
      },
      "execution_count": 3,
      "outputs": []
    },
    {
      "cell_type": "code",
      "source": [
        "# NN instantiation\n",
        "model = Model(inputs=f_inp, outputs=x_out)\n",
        "\n",
        "# load model weights  \n",
        "model.load_weights('./model')\n",
        "\n",
        "# test the NN\n",
        "pred = model.predict(x_ts)\n",
        "pred_y = pred.argmax(axis=-1)\n",
        "\n",
        "# report the classification accuracy\n",
        "print(f\"accuracy = {accuracy_score(y_test, pred_y)}\")"
      ],
      "metadata": {
        "colab": {
          "base_uri": "https://localhost:8080/"
        },
        "id": "EkxOP2AnQRDU",
        "outputId": "75cc4cfe-5ad1-4102-8437-c62c7b28bf68"
      },
      "execution_count": 6,
      "outputs": [
        {
          "output_type": "stream",
          "name": "stdout",
          "text": [
            "28/28 [==============================] - 56s 48ms/step\n",
            "accuracy = 0.9805491990846682\n"
          ]
        }
      ]
    },
    {
      "cell_type": "code",
      "source": [
        "# display the confusion matrix\n",
        "con_matrix = confusion_matrix(y_test, pred_y)\n",
        "cmn = con_matrix.astype('float') / con_matrix.sum(axis=1)[:, np.newaxis]\n",
        "fig, ax = plt.subplots(figsize=(5,5))\n",
        "cmd = ConfusionMatrixDisplay(confusion_matrix=cmn)\n",
        "cmd.plot(ax=ax)\n",
        "# save the confusion matrix\n",
        "plt.savefig(\"cm.png\", format='png', dpi=600, bbox_inches='tight')"
      ],
      "metadata": {
        "colab": {
          "base_uri": "https://localhost:8080/",
          "height": 313
        },
        "id": "2K1RrJofKI6t",
        "outputId": "b5de8ccd-656f-4d29-80da-f57bda6fe813"
      },
      "execution_count": 7,
      "outputs": [
        {
          "output_type": "display_data",
          "data": {
            "text/plain": [
              "<Figure size 360x360 with 2 Axes>"
            ],
            "image/png": "[encoded data removed]"
          },
          "metadata": {
            "needs_background": "light"
          }
        }
      ]
    }
  ]
}